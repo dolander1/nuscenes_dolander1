{
 "cells": [
  {
   "cell_type": "code",
   "execution_count": 1,
   "id": "67881dbc",
   "metadata": {},
   "outputs": [
    {
     "name": "stderr",
     "output_type": "stream",
     "text": [
      "/opt/conda/envs/flowerNuscenes/lib/python3.8/site-packages/torchvision/io/image.py:11: UserWarning: Failed to load image Python extension: /opt/conda/envs/flowerNuscenes/lib/python3.8/site-packages/torchvision/image.so: undefined symbol: _ZNK3c1010TensorImpl36is_contiguous_nondefault_policy_implENS_12MemoryFormatE\n",
      "  warn(f\"Failed to load image Python extension: {e}\")\n"
     ]
    },
    {
     "name": "stdout",
     "output_type": "stream",
     "text": [
      "shape of img_tensor = torch.Size([1, 3, 500, 500])\n",
      "shape of img_tensor = torch.Size([1, 3, 125, 125])\n",
      "hej from CoverNetNoRelu\n"
     ]
    }
   ],
   "source": [
    "## LOAD DATA\n",
    "\n",
    "# Use pre-saved weights\n",
    "from nuscenes.prediction.models.backbone import ResNetBackbone\n",
    "from nuscenes.prediction.models.mtp import MTP\n",
    "import utilsHannes\n",
    "import importlib\n",
    "importlib.reload(utilsHannes)\n",
    "from utilsHannes import CoverNetNoRelu\n",
    "from utilsHannes import mean_pointwise_l2_distance\n",
    "import torch\n",
    "import pickle\n",
    "import matplotlib.pyplot as plt\n",
    "%matplotlib inline\n",
    "import copy\n",
    "import numpy as np\n",
    "\n",
    "\n",
    "\n",
    "# Load data\n",
    "version = \"v1.0-trainval\" # v1.0-mini, v1.0-trainval\n",
    "if version == \"v1.0-mini\":\n",
    "    train_subset = \"mini_train\"\n",
    "    val_subset = \"mini_val\"\n",
    "elif version == \"v1.0-trainval\":\n",
    "    train_subset = \"train\"\n",
    "    val_subset = \"val\"\n",
    "     \n",
    "DATAROOT = \"data/sets/nuscenes\"\n",
    "seconds_of_history_used = 2.0 # Half second steps\n",
    "\n",
    "sequences_per_instance = \"one_sequences_per_instance\" # one_sequences_per_instance, non_overlapping_sequences_per_instance, all_sequences_per_instance\n",
    "img_tensor_list1 = torch.load(f\"dataLists/{version}/{sequences_per_instance}/{seconds_of_history_used}/train_img_tensor_list.pt\")\n",
    "agent_state_vector_list1 = torch.load(f\"dataLists/{version}/{sequences_per_instance}/{seconds_of_history_used}/train_agent_state_vector_list.pt\")\n",
    "future_xy_local_list1 = torch.load(f\"dataLists/{version}/{sequences_per_instance}/{seconds_of_history_used}/train_future_xy_local_list.pt\")\n",
    "print(f\"shape of img_tensor = {img_tensor_list1[0].shape}\")\n",
    "# Squeeze for correct dimensions\n",
    "for i, train_img_tensor in enumerate(img_tensor_list1):\n",
    "    img_tensor_list1[i] = torch.nn.functional.interpolate(train_img_tensor, scale_factor=1/4, mode='bilinear')\n",
    "#     img_tensor_list1[i] = torch.squeeze(train_img_tensor, dim=0)\n",
    "#     agent_state_vector_list1[i] = torch.squeeze(agent_state_vector_list1[i], dim=0)\n",
    "print(f\"shape of img_tensor = {img_tensor_list1[0].shape}\")\n",
    "    \n",
    "    \n",
    "# sequences_per_instance = \"non_overlapping_sequences_per_instance\" # one_sequences_per_instance, non_overlapping_sequences_per_instance, all_sequences_per_instance\n",
    "# img_tensor_list2 = torch.load(f\"dataLists/{version}/{sequences_per_instance}/{seconds_of_history_used}/train_img_tensor_list.pt\")\n",
    "# agent_state_vector_list2 = torch.load(f\"dataLists/{version}/{sequences_per_instance}/{seconds_of_history_used}/train_agent_state_vector_list.pt\")\n",
    "# future_xy_local_list2 = torch.load(f\"dataLists/{version}/{sequences_per_instance}/{seconds_of_history_used}/train_future_xy_local_list.pt\")\n",
    "\n",
    "# sequences_per_instance = \"all_sequences_per_instance\" # one_sequences_per_instance, non_overlapping_sequences_per_instance, all_sequences_per_instance\n",
    "# img_tensor_list3 = torch.load(f\"dataLists/{version}/{sequences_per_instance}/{seconds_of_history_used}/train_img_tensor_list.pt\")\n",
    "# agent_state_vector_list3 = torch.load(f\"dataLists/{version}/{sequences_per_instance}/{seconds_of_history_used}/train_agent_state_vector_list.pt\")\n",
    "# future_xy_local_list3 = torch.load(f\"dataLists/{version}/{sequences_per_instance}/{seconds_of_history_used}/train_future_xy_local_list.pt\")\n",
    "\n",
    "\n",
    "# Model\n",
    "backbone = ResNetBackbone('resnet50')\n",
    "covernet = CoverNetNoRelu(backbone, num_modes=64)\n"
   ]
  },
  {
   "cell_type": "code",
   "execution_count": 2,
   "id": "bd44c413",
   "metadata": {},
   "outputs": [],
   "source": [
    "## SPECIFY FILES AND MODEL\n",
    "num_epochs = 300\n",
    "file_path = f\"tmpResults/results_epochs={num_epochs}\"\n",
    "\n",
    "# Load weights\n",
    "covernet = copy.copy(covernet)\n",
    "covernet.load_state_dict(torch.load(f'{file_path}_weights.pth'))\n",
    "\n",
    "# Load lattice\n",
    "with open('data/sets/nuscenes-prediction-challenge-trajectory-sets/epsilon_8.pkl', 'rb') as f:\n",
    "    lattice = np.array(pickle.load(f))\n",
    "# print(f\"Shape of lattice = {lattice.shape}\")\n",
    "\n"
   ]
  },
  {
   "cell_type": "code",
   "execution_count": 16,
   "id": "5d43b7cc",
   "metadata": {},
   "outputs": [
    {
     "name": "stdout",
     "output_type": "stream",
     "text": [
      "np.sum(outputValues) = 1.0\n",
      "predicted = tensor([57])\n",
      "closest_lattice_index = 58\n",
      "correct = tensor([False])\n"
     ]
    },
    {
     "data": {
      "image/png": "[encoded data removed]",
      "text/plain": [
       "<Figure size 640x480 with 1 Axes>"
      ]
     },
     "metadata": {},
     "output_type": "display_data"
    }
   ],
   "source": [
    "## PRINT PREDICTIONS\n",
    "\n",
    "\n",
    "# # Plot all trajectories\n",
    "# modes = np.arange(lattice.shape[0])\n",
    "# timesteps = np.arange(12) # 12 timesteps (which is maximum), can be reduced\n",
    "# for mode in modes:\n",
    "#     plt.plot(lattice[mode,timesteps,0],lattice[mode,timesteps,1])\n",
    "# plt.ylim([-10,120])\n",
    "# plt.xlim([-40,40])\n",
    "# plt.show()\n",
    "\n",
    "### Top trajectories\n",
    "nrOfTopTrajectories = 1\n",
    "\n",
    "test_index = 915\n",
    "### Get probabilities\n",
    "logits = covernet(img_tensor_list1[test_index], agent_state_vector_list1[test_index])\n",
    "softmaxy = torch.nn.Softmax(dim=1)\n",
    "outputValues = softmaxy(logits).detach().numpy().squeeze()\n",
    "print(f\"np.sum(outputValues) = {np.sum(outputValues)}\")\n",
    "\n",
    "topProbabilitiesIndices = np.argsort(outputValues)[::-1][0:nrOfTopTrajectories]\n",
    "topProbabilities = [outputValues[index] for index in topProbabilitiesIndices]\n",
    "# print(f\"topProbabilitiesIndices[0] = {topProbabilitiesIndices[0]}\")\n",
    "\n",
    "# Ground truth\n",
    "ground_truth_trajectory = future_xy_local_list1[test_index]\n",
    "\n",
    "# Lattice ground truth\n",
    "_, predicted = torch.max(logits, 1) \n",
    "closest_lattice_index = mean_pointwise_l2_distance(torch.Tensor(lattice), ground_truth_trajectory)\n",
    "print(f\"predicted = {predicted}\")\n",
    "print(f\"closest_lattice_index = {closest_lattice_index}\")\n",
    "correct = (predicted == closest_lattice_index)\n",
    "print(f\"correct = {correct}\")\n",
    "\n",
    "# Plot predictions\n",
    "[plt.plot(lattice[mode,:,0],lattice[mode,:,1], label=topProbabilities[i]) for i, mode in enumerate(topProbabilitiesIndices)]\n",
    "# Plot ground truth\n",
    "plt.plot(ground_truth_trajectory[:,0], ground_truth_trajectory[:,1], label=\"ground truth\")\n",
    "# Plot lattice ground truth\n",
    "plt.plot(lattice[closest_lattice_index,:,0],lattice[closest_lattice_index,:,1], label=\"lattice ground truth\")\n",
    "\n",
    "plt.ylim([-10,120]); plt.xlim([-40,40]); plt.legend(); plt.show()"
   ]
  }
 ],
 "metadata": {
  "kernelspec": {
   "display_name": "flowerNuscenes",
   "language": "python",
   "name": "flowernuscenes"
  },
  "language_info": {
   "codemirror_mode": {
    "name": "ipython",
    "version": 3
   },
   "file_extension": ".py",
   "mimetype": "text/x-python",
   "name": "python",
   "nbconvert_exporter": "python",
   "pygments_lexer": "ipython3",
   "version": "3.8.16"
  }
 },
 "nbformat": 4,
 "nbformat_minor": 5
}
