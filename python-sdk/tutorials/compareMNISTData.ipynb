{
 "cells": [
  {
   "cell_type": "code",
   "execution_count": null,
   "id": "d198c19e",
   "metadata": {},
   "outputs": [],
   "source": [
    "import urllib.request\n",
    "import gzip\n",
    "import idx2numpy\n",
    "import matplotlib.pyplot as plt\n",
    "import numpy as np\n",
    "\n",
    "# Download the MNIST dataset\n",
    "url = 'http://yann.lecun.com/exdb/mnist/train-images-idx3-ubyte.gz'\n",
    "urllib.request.urlretrieve(url, 'train-images-idx3-ubyte.gz')\n",
    "\n",
    "# Extract the image file\n",
    "with gzip.open('train-images-idx3-ubyte.gz', 'rb') as f:\n",
    "    images = idx2numpy.convert_from_file(f)\n",
    "\n",
    "# Create a 2x5 grid for plotting\n",
    "fig, axes = plt.subplots(2, 5, figsize=(10, 4))\n",
    "fig.tight_layout()\n",
    "\n",
    "# Sort the images based on the labels (digits)\n",
    "sorted_images = sorted(zip(images, np.arange(len(images))), key=lambda x: x[1])\n",
    "\n",
    "digit_list = [5,0,4,1,9,2,1,3,1,4]\n",
    "\n",
    "# Plot each digit in the sorted grid\n",
    "for i, ax in enumerate(axes.flat):\n",
    "    ax.imshow(sorted_images[i][0], cmap='gray')\n",
    "    ax.axis('off')\n",
    "    ax.set_title(f'Digit: {digit_list[i]}')\n",
    "\n",
    "# Display the grid of images\n",
    "plt.savefig(\"MNIST.png\")\n",
    "plt.show()\n",
    "\n"
   ]
  }
 ],
 "metadata": {
  "kernelspec": {
   "display_name": "Python 3 (ipykernel)",
   "language": "python",
   "name": "python3"
  },
  "language_info": {
   "codemirror_mode": {
    "name": "ipython",
    "version": 3
   },
   "file_extension": ".py",
   "mimetype": "text/x-python",
   "name": "python",
   "nbconvert_exporter": "python",
   "pygments_lexer": "ipython3",
   "version": "3.9.10"
  }
 },
 "nbformat": 4,
 "nbformat_minor": 5
}
